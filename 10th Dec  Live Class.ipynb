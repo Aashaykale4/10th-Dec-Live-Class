{
 "cells": [
  {
   "cell_type": "code",
   "execution_count": 1,
   "metadata": {},
   "outputs": [
    {
     "data": {
      "text/plain": [
       "2"
      ]
     },
     "execution_count": 1,
     "metadata": {},
     "output_type": "execute_result"
    }
   ],
   "source": [
    "# Problem 1.Given an array of n numbers, give an algorithm which gives the element appearing maximum \n",
    "# number of times\n",
    "arr=[3,2,12,3,4,5,1,2]\n",
    "\n",
    "def bubblesort(arr):\n",
    "    for i in range(len(arr)-1,0,-1):\n",
    "        for j in range(i):\n",
    "            if (arr[j]>arr[j+1]):    #used to sort arr\n",
    "                arr[j],arr[j+1]=arr[j+1],arr[j]\n",
    "    return arr\n",
    "\n",
    "def max_Appear(arr,n):\n",
    "    bubblesort(arr)  #sorted arr\n",
    "    max_count=1   \n",
    "    curr_count=1\n",
    "    num=arr[0]\n",
    "    \n",
    "    for i in range(1,n):\n",
    "        if arr[i]==arr[i-1]: \n",
    "            curr_count+=1   #if repeated element increment count\n",
    "        else:\n",
    "            curr_count=1\n",
    "        \n",
    "        if curr_count>max_count:  #if count > max\n",
    "            max_count=curr_count   #update max\n",
    "            num=arr[i-1]\n",
    "    return num\n",
    "\n",
    "max_Appear(arr,len(arr))\n",
    "    \n",
    "\n",
    "\n",
    "\n",
    "    \n"
   ]
  },
  {
   "cell_type": "code",
   "execution_count": 2,
   "metadata": {},
   "outputs": [
    {
     "data": {
      "text/plain": [
       "5"
      ]
     },
     "execution_count": 2,
     "metadata": {},
     "output_type": "execute_result"
    }
   ],
   "source": [
    "# Problem 2 : We are given a list of n-1 integers and these integers are in the range of 1 to n . There are no \n",
    "# duplicates in the list. One of the integers is missing in the list. Give an algorithm to find that element Ex: \n",
    "# [1,2,4,6,3,7,8] 5 is the missing num.\n",
    "arr=[1,2,4,6,3,7,8]\n",
    "def missing_element(arr,n):\n",
    "    bubblesort(arr)      #sorrted arr\n",
    "    for i in range(1,n+1):\n",
    "        if arr[i-1]!=i:  #condition for finding missing element\n",
    "            return i     # if missing element return \n",
    "    return False         # else return false\n",
    "\n",
    "missing_element(arr,len(arr))\n"
   ]
  },
  {
   "cell_type": "code",
   "execution_count": 3,
   "metadata": {},
   "outputs": [
    {
     "data": {
      "text/plain": [
       "3"
      ]
     },
     "execution_count": 3,
     "metadata": {},
     "output_type": "execute_result"
    }
   ],
   "source": [
    "# Problem 3 : Given an array of n positive numbers. All numbers occurs even number of times except 1 which \n",
    "# occurs odd number of times. Find that number in O(n) time and O(1) space. Ex: [1,2,3,2,3,1,3]. 3 is repeats odd \n",
    "# times.\n",
    "arr= [1,2,3,2,1,3,3]\n",
    "def odd_repeat(arr,n):\n",
    "    bubblesort(arr) #sortted arr\n",
    "    curr_count=1\n",
    "    for i in range(1,n):\n",
    "        if arr[i]==arr[i-1]:  \n",
    "            curr_count+=1    #count no. of occurence\n",
    "        else:\n",
    "            curr_count=1\n",
    "        if (curr_count%2!=0 and curr_count!=1): # curr_count is odd  return element\n",
    "            return arr[i]\n",
    "    return False#else false\n",
    "odd_repeat(arr,len(arr))                "
   ]
  },
  {
   "cell_type": "code",
   "execution_count": 4,
   "metadata": {},
   "outputs": [
    {
     "data": {
      "text/plain": [
       "(2, 3)"
      ]
     },
     "execution_count": 4,
     "metadata": {},
     "output_type": "execute_result"
    }
   ],
   "source": [
    "# Problem 4 : Given an array of n elements. Find two elements in the array such that their sum is equal to given \n",
    "# element K.\n",
    "arr= [1,2,3,2,1,3,3]\n",
    "k=5\n",
    "def sum_of_k(arr,k):\n",
    "    for i in arr:\n",
    "        for j in arr:\n",
    "            if i+j==k:     #condition if sum == k  return i,j elment\n",
    "                return i,j\n",
    "            \n",
    "    return False #else false\n",
    "            \n",
    "sum_of_k(arr,k)"
   ]
  },
  {
   "cell_type": "code",
   "execution_count": 5,
   "metadata": {},
   "outputs": [
    {
     "data": {
      "text/plain": [
       "5"
      ]
     },
     "execution_count": 5,
     "metadata": {},
     "output_type": "execute_result"
    }
   ],
   "source": [
    "# Problem 5 : Given an array of both positive and negative numbers, find two numbers such that their sum is \n",
    "# closest to 0. Ex: [ 1 ,60 ,-10, 70, -80,85]. Ans : -80,85 \n",
    "arr=[ 1 ,60 ,-10, 70, -80,85,]\n",
    "def closest_to_0(arr,n):\n",
    "    bubblesort(arr)\n",
    "    arr1=[]\n",
    "    for  i in range(int((n)/2)):\n",
    "        j=(n-1)-i\n",
    "        sum=arr[i]+arr[j]\n",
    "        arr1+=[sum]\n",
    "\n",
    "    for i in range(len(arr1)-2):\n",
    "        if arr1[i]>arr1[i+1]:\n",
    "            return arr1[i+1]\n",
    "        else:\n",
    "            return arr1[i]\n",
    "    \n",
    "    \n",
    "\n",
    "closest_to_0(arr,len(arr))\n",
    "\n",
    "\n"
   ]
  },
  {
   "cell_type": "code",
   "execution_count": 6,
   "metadata": {},
   "outputs": [
    {
     "data": {
      "text/plain": [
       "(1, 2, 3)"
      ]
     },
     "execution_count": 6,
     "metadata": {},
     "output_type": "execute_result"
    }
   ],
   "source": [
    "# Problem 6 : Given an array of n elements . Find three elements such that their sum is equal to the given \n",
    "# number\n",
    "arr= [1,2,3,2,1,3,3]\n",
    "k=6\n",
    "def sum_of_3(arr,k):\n",
    "    for i in arr:\n",
    "        for j in arr:\n",
    "            for l in arr:\n",
    "              if i+j+l==k:     #condition if sum == k  return i,j,l elment\n",
    "                return i,j,l\n",
    "            \n",
    "    return False #else false\n",
    "            \n",
    "sum_of_3(arr,k)"
   ]
  },
  {
   "cell_type": "code",
   "execution_count": 13,
   "metadata": {},
   "outputs": [
    {
     "data": {
      "text/plain": [
       "(3, 4, 5)"
      ]
     },
     "execution_count": 13,
     "metadata": {},
     "output_type": "execute_result"
    }
   ],
   "source": [
    "# Problem 7 : Given an array of n elements . Find three elements i, j, k in the array such that\n",
    "\n",
    "# i * i + j * j = k*k\n",
    "arr= [1,2,3,4,5,6]\n",
    "def function(arr):\n",
    "    for i in arr:\n",
    "        for j in arr:\n",
    "            for k in arr:\n",
    "                if (i*i)+(j*j)==(k*k): \n",
    "                    return i,j,k\n",
    "    return False\n",
    "function(arr)"
   ]
  },
  {
   "cell_type": "code",
   "execution_count": 18,
   "metadata": {},
   "outputs": [
    {
     "data": {
      "text/plain": [
       "2"
      ]
     },
     "execution_count": 18,
     "metadata": {},
     "output_type": "execute_result"
    }
   ],
   "source": [
    "# Problem 8 : An element is a majority if it appears more than n/2 times. Give an algorithm takes an array of n \n",
    "# element as argument and identifies a majority (if it exists)\n",
    "arr= [1,2,3,2,3,2,4,5,2]\n",
    "def majority(arr):\n",
    "    bubblesort(arr)\n",
    "    majority=int(len(arr)/2)\n",
    "    curr=1\n",
    "    for i in range(1,len(arr)):\n",
    "        if arr[i]==arr[i-1]:\n",
    "            curr+=1\n",
    "        else:\n",
    "            curr=1\n",
    "        if curr>=majority:\n",
    "            return arr[i]\n",
    "    return False\n",
    "majority(arr)"
   ]
  },
  {
   "cell_type": "code",
   "execution_count": 26,
   "metadata": {},
   "outputs": [
    {
     "data": {
      "text/plain": [
       "2"
      ]
     },
     "execution_count": 26,
     "metadata": {},
     "output_type": "execute_result"
    }
   ],
   "source": [
    "# Problem 9 : Given n × n matrix, and in each row all 1’s are followed by 0’s. Find the row with the maximum \n",
    "# number of 0’s\n",
    "arr=[[1,0,1],[1,0,0],[0,0,0]]\n",
    "def max_0(arr):\n",
    " max=1\n",
    " curr=0\n",
    " row=0\n",
    " for i in range(len(arr)):\n",
    "    bubblesort(arr[i])\n",
    "    for j in arr[i]:\n",
    "        if j==0:\n",
    "            curr+=1\n",
    "    if curr>max:\n",
    "        row+=1\n",
    " return row\n",
    "\n",
    "max_0(arr)\n",
    "    \n",
    "       "
   ]
  },
  {
   "cell_type": "code",
   "execution_count": 19,
   "metadata": {},
   "outputs": [
    {
     "data": {
      "text/plain": [
       "[0, 0, 0, 0, 0, 1, 1, 1, 1, 1, 2, 2]"
      ]
     },
     "execution_count": 19,
     "metadata": {},
     "output_type": "execute_result"
    }
   ],
   "source": [
    "# Problem 10 : Sort an array of 0’s, 1’s and 2’s [or R’s, G’s and B’s]: Given an array A[] consisting of 0’s, 1’s and \n",
    "# 2’s, give an algorithm for sorting A[].The algorithm should put all 0’s first, then all 1’s and finally all 2’s at the \n",
    "# end. Example Input = {0,1,1,0,1,2,1,2,0,0,0,1}, Output = {0,0,0,0,0,1,1,1,1,1,2,2}\n",
    "\n",
    "arr=[0,1,1,0,1,2,1,2,0,0,0,1]\n",
    "def sort_012(arr):\n",
    "    bubblesort(arr)\n",
    "    return arr\n",
    "sort_012(arr)"
   ]
  },
  {
   "cell_type": "code",
   "execution_count": null,
   "metadata": {},
   "outputs": [],
   "source": []
  }
 ],
 "metadata": {
  "kernelspec": {
   "display_name": "Python 3",
   "language": "python",
   "name": "python3"
  },
  "language_info": {
   "codemirror_mode": {
    "name": "ipython",
    "version": 3
   },
   "file_extension": ".py",
   "mimetype": "text/x-python",
   "name": "python",
   "nbconvert_exporter": "python",
   "pygments_lexer": "ipython3",
   "version": "3.11.5"
  }
 },
 "nbformat": 4,
 "nbformat_minor": 2
}
